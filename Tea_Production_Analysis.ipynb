{
  "cells": [
    {
      "attachments": {},
      "cell_type": "markdown",
      "metadata": {
        "colab_type": "text",
        "id": "view-in-github"
      },
      "source": [
        "<a href=\"https://colab.research.google.com/github/TahlonBrahic/Tea-Production-Data-Science/blob/main/Tea_Production_Analysis.ipynb\" target=\"_parent\"><img src=\"https://colab.research.google.com/assets/colab-badge.svg\" alt=\"Open In Colab\"/></a>"
      ]
    },
    {
      "cell_type": "code",
      "execution_count": 2,
      "metadata": {
        "id": "VtT4WWVw_Nxl"
      },
      "outputs": [],
      "source": [
        "import numpy as np\n",
        "from sklearn.experimental import enable_iterative_imputer\n",
        "from sklearn.impute import IterativeImputer\n",
        "import pandas as pd\n",
        "import matplotlib.pyplot as plt"
      ]
    },
    {
      "attachments": {},
      "cell_type": "markdown",
      "metadata": {},
      "source": [
        "# Data Merging"
      ]
    },
    {
      "cell_type": "code",
      "execution_count": 30,
      "metadata": {
        "colab": {
          "base_uri": "https://localhost:8080/",
          "height": 771
        },
        "id": "uDmuZ-7xrNeE",
        "outputId": "5b049699-fab3-40c9-ace1-3cd7a10aeccc"
      },
      "outputs": [
        {
          "data": {
            "text/html": [
              "<div>\n",
              "<style scoped>\n",
              "    .dataframe tbody tr th:only-of-type {\n",
              "        vertical-align: middle;\n",
              "    }\n",
              "\n",
              "    .dataframe tbody tr th {\n",
              "        vertical-align: top;\n",
              "    }\n",
              "\n",
              "    .dataframe thead th {\n",
              "        text-align: right;\n",
              "    }\n",
              "</style>\n",
              "<table border=\"1\" class=\"dataframe\">\n",
              "  <thead>\n",
              "    <tr style=\"text-align: right;\">\n",
              "      <th></th>\n",
              "      <th>Year</th>\n",
              "      <th>Tea exported</th>\n",
              "    </tr>\n",
              "    <tr>\n",
              "      <th>Country</th>\n",
              "      <th></th>\n",
              "      <th></th>\n",
              "    </tr>\n",
              "  </thead>\n",
              "  <tbody>\n",
              "    <tr>\n",
              "      <th>Argentina</th>\n",
              "      <td>2010</td>\n",
              "      <td>298.00</td>\n",
              "    </tr>\n",
              "    <tr>\n",
              "      <th>Bangladesh</th>\n",
              "      <td>2010</td>\n",
              "      <td>2863.00</td>\n",
              "    </tr>\n",
              "    <tr>\n",
              "      <th>Burundi</th>\n",
              "      <td>2010</td>\n",
              "      <td>1.00</td>\n",
              "    </tr>\n",
              "    <tr>\n",
              "      <th>China</th>\n",
              "      <td>2010</td>\n",
              "      <td>56442.00</td>\n",
              "    </tr>\n",
              "    <tr>\n",
              "      <th>China, mainland</th>\n",
              "      <td>2010</td>\n",
              "      <td>12665.00</td>\n",
              "    </tr>\n",
              "    <tr>\n",
              "      <th>...</th>\n",
              "      <td>...</td>\n",
              "      <td>...</td>\n",
              "    </tr>\n",
              "    <tr>\n",
              "      <th>Türkiye</th>\n",
              "      <td>2019</td>\n",
              "      <td>19517.98</td>\n",
              "    </tr>\n",
              "    <tr>\n",
              "      <th>Uganda</th>\n",
              "      <td>2019</td>\n",
              "      <td>120.44</td>\n",
              "    </tr>\n",
              "    <tr>\n",
              "      <th>United Republic of Tanzania</th>\n",
              "      <td>2019</td>\n",
              "      <td>156.96</td>\n",
              "    </tr>\n",
              "    <tr>\n",
              "      <th>Viet Nam</th>\n",
              "      <td>2019</td>\n",
              "      <td>11181.12</td>\n",
              "    </tr>\n",
              "    <tr>\n",
              "      <th>Zimbabwe</th>\n",
              "      <td>2019</td>\n",
              "      <td>166.44</td>\n",
              "    </tr>\n",
              "  </tbody>\n",
              "</table>\n",
              "<p>220 rows × 2 columns</p>\n",
              "</div>"
            ],
            "text/plain": [
              "                             Year  Tea exported\n",
              "Country                                        \n",
              "Argentina                    2010        298.00\n",
              "Bangladesh                   2010       2863.00\n",
              "Burundi                      2010          1.00\n",
              "China                        2010      56442.00\n",
              "China, mainland              2010      12665.00\n",
              "...                           ...           ...\n",
              "Türkiye                      2019      19517.98\n",
              "Uganda                       2019        120.44\n",
              "United Republic of Tanzania  2019        156.96\n",
              "Viet Nam                     2019      11181.12\n",
              "Zimbabwe                     2019        166.44\n",
              "\n",
              "[220 rows x 2 columns]"
            ]
          },
          "execution_count": 30,
          "metadata": {},
          "output_type": "execute_result"
        }
      ],
      "source": [
        "tea_production = pd.read_csv('https://raw.githubusercontent.com/TahlonBrahic/Tea-Production-Data-Science/main/DATA/Tea_crops_processed_production_quantity.csv')\n",
        "tea_production.set_index('Country', inplace=True)\n",
        "countries = tea_production.index.to_list()\n",
        "tea_production_stacked = tea_production.stack()\n",
        "tea_production_stacked.name = 'Produce'\n",
        "\n",
        "tea_import = pd.read_csv('https://raw.githubusercontent.com/TahlonBrahic/Tea-Production-Data-Science/main/DATA/Tea_import.csv')\n",
        "tea_import.set_index('Country', inplace=True)\n",
        "tea_import = tea_import.loc[countries]\n",
        "tea_import_years = tea_import.columns[20:-2].to_list()\n",
        "tea_import_years_processed = tea_import[tea_import_years]\n",
        "tea_import_tidy = pd.melt(tea_import_years_processed, var_name='Year', value_name='Tea exported', ignore_index=False)\n",
        "\n",
        "\n",
        "\n",
        "tea_export = pd.read_csv('https://raw.githubusercontent.com/TahlonBrahic/Tea-Production-Data-Science/main/DATA/Tea_export.csv')\n",
        "tea_export.set_index('Country', inplace=True)\n",
        "# tea_export_tidy = pd.melt()\n",
        "\n",
        "# tea_production_import = pd.merge(tea_production_tidy, tea_import_tidy, left_index=True, right_index=True)\n",
        "tea_import_tidy"
      ]
    },
    {
      "attachments": {},
      "cell_type": "markdown",
      "metadata": {},
      "source": [
        "# Data Wrangling"
      ]
    },
    {
      "cell_type": "code",
      "execution_count": null,
      "metadata": {},
      "outputs": [],
      "source": [
        "imp = IterativeImputer(max_iter=10, random_state=0)"
      ]
    },
    {
      "attachments": {},
      "cell_type": "markdown",
      "metadata": {
        "id": "yJIKlXFIwF3j"
      },
      "source": [
        "# Exploratory Data Analysis"
      ]
    },
    {
      "cell_type": "code",
      "execution_count": null,
      "metadata": {
        "colab": {
          "base_uri": "https://localhost:8080/",
          "height": 452
        },
        "id": "ukDGPS6msvuI",
        "outputId": "bd297315-5963-4f8b-ff34-e58d3d4c26aa"
      },
      "outputs": [],
      "source": [
        "pass"
      ]
    }
  ],
  "metadata": {
    "colab": {
      "authorship_tag": "ABX9TyN+z+bWnKIFwZf+t3JiQjYx",
      "include_colab_link": true,
      "provenance": [],
      "toc_visible": true
    },
    "kernelspec": {
      "display_name": "Python 3",
      "name": "python3"
    },
    "language_info": {
      "codemirror_mode": {
        "name": "ipython",
        "version": 3
      },
      "file_extension": ".py",
      "mimetype": "text/x-python",
      "name": "python",
      "nbconvert_exporter": "python",
      "pygments_lexer": "ipython3",
      "version": "3.10.10"
    }
  },
  "nbformat": 4,
  "nbformat_minor": 0
}

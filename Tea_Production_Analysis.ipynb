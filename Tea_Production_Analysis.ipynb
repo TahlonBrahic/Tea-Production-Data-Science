{
  "cells": [
    {
      "attachments": {},
      "cell_type": "markdown",
      "metadata": {
        "colab_type": "text",
        "id": "view-in-github"
      },
      "source": [
        "<a href=\"https://colab.research.google.com/github/TahlonBrahic/Tea-Production-Data-Science/blob/main/Tea_Production_Analysis.ipynb\" target=\"_parent\"><img src=\"https://colab.research.google.com/assets/colab-badge.svg\" alt=\"Open In Colab\"/></a>"
      ]
    },
    {
      "cell_type": "code",
      "execution_count": 5,
      "metadata": {
        "id": "VtT4WWVw_Nxl"
      },
      "outputs": [],
      "source": [
        "import numpy as np\n",
        "import pandas as pd\n",
        "import matplotlib.pyplot as plt"
      ]
    },
    {
      "attachments": {},
      "cell_type": "markdown",
      "metadata": {},
      "source": [
        "# Data Merging"
      ]
    },
    {
      "cell_type": "code",
      "execution_count": 78,
      "metadata": {
        "colab": {
          "base_uri": "https://localhost:8080/",
          "height": 771
        },
        "id": "uDmuZ-7xrNeE",
        "outputId": "5b049699-fab3-40c9-ace1-3cd7a10aeccc"
      },
      "outputs": [
        {
          "data": {
            "text/html": [
              "<div>\n",
              "<style scoped>\n",
              "    .dataframe tbody tr th:only-of-type {\n",
              "        vertical-align: middle;\n",
              "    }\n",
              "\n",
              "    .dataframe tbody tr th {\n",
              "        vertical-align: top;\n",
              "    }\n",
              "\n",
              "    .dataframe thead th {\n",
              "        text-align: right;\n",
              "    }\n",
              "</style>\n",
              "<table border=\"1\" class=\"dataframe\">\n",
              "  <thead>\n",
              "    <tr style=\"text-align: right;\">\n",
              "      <th></th>\n",
              "      <th></th>\n",
              "      <th>Produce</th>\n",
              "      <th>Import</th>\n",
              "    </tr>\n",
              "    <tr>\n",
              "      <th>Country</th>\n",
              "      <th></th>\n",
              "      <th></th>\n",
              "      <th></th>\n",
              "    </tr>\n",
              "  </thead>\n",
              "  <tbody>\n",
              "    <tr>\n",
              "      <th rowspan=\"5\" valign=\"top\">Argentina</th>\n",
              "      <th>2010</th>\n",
              "      <td>92416.9</td>\n",
              "      <td>298.00</td>\n",
              "    </tr>\n",
              "    <tr>\n",
              "      <th>2011</th>\n",
              "      <td>92892.2</td>\n",
              "      <td>335.00</td>\n",
              "    </tr>\n",
              "    <tr>\n",
              "      <th>2012</th>\n",
              "      <td>82812.9</td>\n",
              "      <td>278.00</td>\n",
              "    </tr>\n",
              "    <tr>\n",
              "      <th>2013</th>\n",
              "      <td>80423.0</td>\n",
              "      <td>259.00</td>\n",
              "    </tr>\n",
              "    <tr>\n",
              "      <th>2014</th>\n",
              "      <td>83043.0</td>\n",
              "      <td>299.51</td>\n",
              "    </tr>\n",
              "    <tr>\n",
              "      <th>...</th>\n",
              "      <th>...</th>\n",
              "      <td>...</td>\n",
              "      <td>...</td>\n",
              "    </tr>\n",
              "    <tr>\n",
              "      <th rowspan=\"5\" valign=\"top\">Zimbabwe</th>\n",
              "      <th>2016</th>\n",
              "      <td>15200.0</td>\n",
              "      <td>622.98</td>\n",
              "    </tr>\n",
              "    <tr>\n",
              "      <th>2017</th>\n",
              "      <td>15500.0</td>\n",
              "      <td>511.54</td>\n",
              "    </tr>\n",
              "    <tr>\n",
              "      <th>2018</th>\n",
              "      <td>15700.0</td>\n",
              "      <td>331.13</td>\n",
              "    </tr>\n",
              "    <tr>\n",
              "      <th>2019</th>\n",
              "      <td>15200.0</td>\n",
              "      <td>166.44</td>\n",
              "    </tr>\n",
              "    <tr>\n",
              "      <th>2020</th>\n",
              "      <td>15000.0</td>\n",
              "      <td>159.19</td>\n",
              "    </tr>\n",
              "  </tbody>\n",
              "</table>\n",
              "<p>240 rows × 2 columns</p>\n",
              "</div>"
            ],
            "text/plain": [
              "                Produce  Import\n",
              "Country                        \n",
              "Argentina 2010  92416.9  298.00\n",
              "          2011  92892.2  335.00\n",
              "          2012  82812.9  278.00\n",
              "          2013  80423.0  259.00\n",
              "          2014  83043.0  299.51\n",
              "...                 ...     ...\n",
              "Zimbabwe  2016  15200.0  622.98\n",
              "          2017  15500.0  511.54\n",
              "          2018  15700.0  331.13\n",
              "          2019  15200.0  166.44\n",
              "          2020  15000.0  159.19\n",
              "\n",
              "[240 rows x 2 columns]"
            ]
          },
          "execution_count": 78,
          "metadata": {},
          "output_type": "execute_result"
        }
      ],
      "source": [
        "tea_production = pd.read_csv('https://raw.githubusercontent.com/TahlonBrahic/Tea-Production-Data-Science/main/DATA/Tea_crops_processed_production_quantity.csv')\n",
        "tea_production.set_index('Country', inplace=True)\n",
        "tea_production_stacked = tea_production.stack()\n",
        "tea_production_stacked.name = 'Produce'\n",
        "\n",
        "tea_import = pd.read_csv('https://raw.githubusercontent.com/TahlonBrahic/Tea-Production-Data-Science/main/DATA/Tea_import.csv')\n",
        "tea_import.set_index('Country', inplace=True)\n",
        "tea_import_years = tea_import.columns\n",
        "tea_import_years_processed = tea_import_years[20:-2] # adjusts the year range to be the same as the tea production data set\n",
        "tea_import_years_processed = tea_import_years_processed.tolist()\n",
        "tea_import_stacked = tea_import.stack()\n",
        "tea_import_stacked.name = 'Import'\n",
        "\n",
        "\n",
        "tea_export = pd.read_csv('https://raw.githubusercontent.com/TahlonBrahic/Tea-Production-Data-Science/main/DATA/Tea_export.csv')\n",
        "tea_export.set_index('Country', inplace=True)\n",
        "tea_export_stacked = tea_export.stack()\n",
        "\n",
        "tea_production_import = pd.merge(tea_production_stacked, tea_import_stacked, left_index=True, right_index=True)\n",
        "tea_production_import"
      ]
    },
    {
      "attachments": {},
      "cell_type": "markdown",
      "metadata": {},
      "source": [
        "# Data Wrangling"
      ]
    },
    {
      "attachments": {},
      "cell_type": "markdown",
      "metadata": {
        "id": "yJIKlXFIwF3j"
      },
      "source": [
        "# Exploratory Data Analysis"
      ]
    },
    {
      "cell_type": "code",
      "execution_count": 1,
      "metadata": {
        "colab": {
          "base_uri": "https://localhost:8080/",
          "height": 452
        },
        "id": "ukDGPS6msvuI",
        "outputId": "bd297315-5963-4f8b-ff34-e58d3d4c26aa"
      },
      "outputs": [],
      "source": [
        "pass"
      ]
    }
  ],
  "metadata": {
    "colab": {
      "authorship_tag": "ABX9TyN+z+bWnKIFwZf+t3JiQjYx",
      "include_colab_link": true,
      "provenance": [],
      "toc_visible": true
    },
    "kernelspec": {
      "display_name": "Python 3",
      "name": "python3"
    },
    "language_info": {
      "codemirror_mode": {
        "name": "ipython",
        "version": 3
      },
      "file_extension": ".py",
      "mimetype": "text/x-python",
      "name": "python",
      "nbconvert_exporter": "python",
      "pygments_lexer": "ipython3",
      "version": "3.10.10"
    }
  },
  "nbformat": 4,
  "nbformat_minor": 0
}

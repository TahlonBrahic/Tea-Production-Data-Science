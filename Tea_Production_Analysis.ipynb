{
  "cells": [
    {
      "attachments": {},
      "cell_type": "markdown",
      "metadata": {
        "colab_type": "text",
        "id": "view-in-github"
      },
      "source": [
        "<a href=\"https://colab.research.google.com/github/TahlonBrahic/Tea-Production-Data-Science/blob/main/Tea_Production_Analysis.ipynb\" target=\"_parent\"><img src=\"https://colab.research.google.com/assets/colab-badge.svg\" alt=\"Open In Colab\"/></a>"
      ]
    },
    {
      "cell_type": "code",
      "execution_count": 5,
      "metadata": {
        "id": "VtT4WWVw_Nxl"
      },
      "outputs": [],
      "source": [
        "import numpy as np\n",
        "import pandas as pd\n",
        "import matplotlib.pyplot as plt"
      ]
    },
    {
      "attachments": {},
      "cell_type": "markdown",
      "metadata": {},
      "source": [
        "# Data Wrangling"
      ]
    },
    {
      "cell_type": "code",
      "execution_count": 25,
      "metadata": {
        "colab": {
          "base_uri": "https://localhost:8080/",
          "height": 771
        },
        "id": "uDmuZ-7xrNeE",
        "outputId": "5b049699-fab3-40c9-ace1-3cd7a10aeccc"
      },
      "outputs": [
        {
          "data": {
            "text/html": [
              "<div>\n",
              "<style scoped>\n",
              "    .dataframe tbody tr th:only-of-type {\n",
              "        vertical-align: middle;\n",
              "    }\n",
              "\n",
              "    .dataframe tbody tr th {\n",
              "        vertical-align: top;\n",
              "    }\n",
              "\n",
              "    .dataframe thead th {\n",
              "        text-align: right;\n",
              "    }\n",
              "</style>\n",
              "<table border=\"1\" class=\"dataframe\">\n",
              "  <thead>\n",
              "    <tr style=\"text-align: right;\">\n",
              "      <th></th>\n",
              "      <th>Country</th>\n",
              "    </tr>\n",
              "  </thead>\n",
              "  <tbody>\n",
              "    <tr>\n",
              "      <th>0</th>\n",
              "      <td>Argentina</td>\n",
              "    </tr>\n",
              "    <tr>\n",
              "      <th>1</th>\n",
              "      <td>Bangladesh</td>\n",
              "    </tr>\n",
              "    <tr>\n",
              "      <th>2</th>\n",
              "      <td>Burundi</td>\n",
              "    </tr>\n",
              "    <tr>\n",
              "      <th>3</th>\n",
              "      <td>China</td>\n",
              "    </tr>\n",
              "    <tr>\n",
              "      <th>4</th>\n",
              "      <td>China, mainland</td>\n",
              "    </tr>\n",
              "    <tr>\n",
              "      <th>5</th>\n",
              "      <td>India</td>\n",
              "    </tr>\n",
              "    <tr>\n",
              "      <th>6</th>\n",
              "      <td>Indonesia</td>\n",
              "    </tr>\n",
              "    <tr>\n",
              "      <th>7</th>\n",
              "      <td>Iran (Islamic Republic of)</td>\n",
              "    </tr>\n",
              "    <tr>\n",
              "      <th>8</th>\n",
              "      <td>Japan</td>\n",
              "    </tr>\n",
              "    <tr>\n",
              "      <th>9</th>\n",
              "      <td>Kenya</td>\n",
              "    </tr>\n",
              "    <tr>\n",
              "      <th>10</th>\n",
              "      <td>Malawi</td>\n",
              "    </tr>\n",
              "    <tr>\n",
              "      <th>11</th>\n",
              "      <td>Mozambique</td>\n",
              "    </tr>\n",
              "    <tr>\n",
              "      <th>12</th>\n",
              "      <td>Myanmar</td>\n",
              "    </tr>\n",
              "    <tr>\n",
              "      <th>13</th>\n",
              "      <td>Nepal</td>\n",
              "    </tr>\n",
              "    <tr>\n",
              "      <th>14</th>\n",
              "      <td>Rwanda</td>\n",
              "    </tr>\n",
              "    <tr>\n",
              "      <th>15</th>\n",
              "      <td>Sri Lanka</td>\n",
              "    </tr>\n",
              "    <tr>\n",
              "      <th>16</th>\n",
              "      <td>Thailand</td>\n",
              "    </tr>\n",
              "    <tr>\n",
              "      <th>17</th>\n",
              "      <td>Türkiye</td>\n",
              "    </tr>\n",
              "    <tr>\n",
              "      <th>18</th>\n",
              "      <td>Uganda</td>\n",
              "    </tr>\n",
              "    <tr>\n",
              "      <th>19</th>\n",
              "      <td>United Republic of Tanzania</td>\n",
              "    </tr>\n",
              "    <tr>\n",
              "      <th>20</th>\n",
              "      <td>Viet Nam</td>\n",
              "    </tr>\n",
              "    <tr>\n",
              "      <th>21</th>\n",
              "      <td>Zimbabwe</td>\n",
              "    </tr>\n",
              "  </tbody>\n",
              "</table>\n",
              "</div>"
            ],
            "text/plain": [
              "                        Country\n",
              "0                     Argentina\n",
              "1                    Bangladesh\n",
              "2                       Burundi\n",
              "3                         China\n",
              "4               China, mainland\n",
              "5                         India\n",
              "6                     Indonesia\n",
              "7    Iran (Islamic Republic of)\n",
              "8                         Japan\n",
              "9                         Kenya\n",
              "10                       Malawi\n",
              "11                   Mozambique\n",
              "12                      Myanmar\n",
              "13                        Nepal\n",
              "14                       Rwanda\n",
              "15                    Sri Lanka\n",
              "16                     Thailand\n",
              "17                      Türkiye\n",
              "18                       Uganda\n",
              "19  United Republic of Tanzania\n",
              "20                     Viet Nam\n",
              "21                     Zimbabwe"
            ]
          },
          "execution_count": 25,
          "metadata": {},
          "output_type": "execute_result"
        }
      ],
      "source": [
        "tea_production = pd.read_csv('https://raw.githubusercontent.com/TahlonBrahic/Tea-Production-Data-Science/main/DATA/Tea_crops_processed_production_quantity.csv')\n",
        "tea_production.set_index('Country', inplace=True)\n",
        "sample_countries = tea_production.index\n",
        "\n",
        "tea_import = pd.read_csv('https://raw.githubusercontent.com/TahlonBrahic/Tea-Production-Data-Science/main/DATA/Tea_import.csv')\n",
        "tea_import.set_index('Country', inplace=True)\n",
        "tea_import_years = tea_import.columns\n",
        "tea_import_years_processed = tea_import_years[20:-1] # adjusts the year range to be the same as the tea production data set\n",
        "multi_index = pd.DataFrame(sample_countries)\n",
        "# pd.MultiIndex.from_frame(sample_countries, tea_import_columns_processed)\n",
        "\n",
        "tea_export = pd.read_csv('https://raw.githubusercontent.com/TahlonBrahic/Tea-Production-Data-Science/main/DATA/Tea_export.csv')\n",
        "tea_export.set_index('Country', inplace=True)\n",
        "\n",
        "\n",
        "# tea_production_import = pd.merge(tea_production, tea_import, on='Country')\n",
        "# tea_production_import\n",
        "multi_index"
      ]
    },
    {
      "attachments": {},
      "cell_type": "markdown",
      "metadata": {
        "id": "yJIKlXFIwF3j"
      },
      "source": [
        "# Exploratory Data Analysis"
      ]
    },
    {
      "cell_type": "code",
      "execution_count": 1,
      "metadata": {
        "colab": {
          "base_uri": "https://localhost:8080/",
          "height": 452
        },
        "id": "ukDGPS6msvuI",
        "outputId": "bd297315-5963-4f8b-ff34-e58d3d4c26aa"
      },
      "outputs": [],
      "source": [
        "pass"
      ]
    }
  ],
  "metadata": {
    "colab": {
      "authorship_tag": "ABX9TyN+z+bWnKIFwZf+t3JiQjYx",
      "include_colab_link": true,
      "provenance": [],
      "toc_visible": true
    },
    "kernelspec": {
      "display_name": "Python 3",
      "name": "python3"
    },
    "language_info": {
      "codemirror_mode": {
        "name": "ipython",
        "version": 3
      },
      "file_extension": ".py",
      "mimetype": "text/x-python",
      "name": "python",
      "nbconvert_exporter": "python",
      "pygments_lexer": "ipython3",
      "version": "3.10.10"
    }
  },
  "nbformat": 4,
  "nbformat_minor": 0
}

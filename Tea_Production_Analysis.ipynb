{
  "cells": [
    {
      "attachments": {},
      "cell_type": "markdown",
      "metadata": {
        "colab_type": "text",
        "id": "view-in-github"
      },
      "source": [
        "<a href=\"https://colab.research.google.com/github/TahlonBrahic/Tea-Production-Data-Science/blob/main/Tea_Production_Analysis.ipynb\" target=\"_parent\"><img src=\"https://colab.research.google.com/assets/colab-badge.svg\" alt=\"Open In Colab\"/></a>"
      ]
    },
    {
      "cell_type": "code",
      "execution_count": 5,
      "metadata": {
        "id": "VtT4WWVw_Nxl"
      },
      "outputs": [],
      "source": [
        "import numpy as np\n",
        "import pandas as pd\n",
        "import matplotlib.pyplot as plt"
      ]
    },
    {
      "cell_type": "code",
      "execution_count": 9,
      "metadata": {
        "colab": {
          "base_uri": "https://localhost:8080/",
          "height": 771
        },
        "id": "uDmuZ-7xrNeE",
        "outputId": "5b049699-fab3-40c9-ace1-3cd7a10aeccc"
      },
      "outputs": [
        {
          "data": {
            "text/plain": [
              "Index(['2010', '2011', '2012', '2013', '2014', '2015', '2016', '2017', '2018',\n",
              "       '2019', '2020'],\n",
              "      dtype='object')"
            ]
          },
          "execution_count": 9,
          "metadata": {},
          "output_type": "execute_result"
        }
      ],
      "source": [
        "tea_production = pd.read_csv('https://raw.githubusercontent.com/TahlonBrahic/Tea-Production-Data-Science/main/DATA/Tea_crops_processed_production_quantity.csv')\n",
        "tea_production.set_index('Country', inplace=True)\n",
        "\n",
        "tea_import = pd.read_csv('https://raw.githubusercontent.com/TahlonBrahic/Tea-Production-Data-Science/main/DATA/Tea_import.csv')\n",
        "tea_import.set_index('Country', inplace=True)\n",
        "tea_import_columns = tea_import.columns\n",
        "tea_import_columns_processed = tea_import_columns[20:-1] # adjusts the year range to be the same as the tea production data set\n",
        "pd.MultiIndex.from_arrays()\n",
        "\n",
        "tea_export = pd.read_csv('https://raw.githubusercontent.com/TahlonBrahic/Tea-Production-Data-Science/main/DATA/Tea_export.csv')\n",
        "tea_export.set_index('Country', inplace=True)\n",
        "\n",
        "\n",
        "# tea_production_import = pd.merge(tea_production, tea_import, on='Country')\n",
        "# tea_production_import\n",
        "tea_import_columns_processed"
      ]
    },
    {
      "attachments": {},
      "cell_type": "markdown",
      "metadata": {
        "id": "yJIKlXFIwF3j"
      },
      "source": [
        "# Exploratory Data Analysis"
      ]
    },
    {
      "cell_type": "code",
      "execution_count": 1,
      "metadata": {
        "colab": {
          "base_uri": "https://localhost:8080/",
          "height": 452
        },
        "id": "ukDGPS6msvuI",
        "outputId": "bd297315-5963-4f8b-ff34-e58d3d4c26aa"
      },
      "outputs": [],
      "source": [
        "pass"
      ]
    }
  ],
  "metadata": {
    "colab": {
      "authorship_tag": "ABX9TyN+z+bWnKIFwZf+t3JiQjYx",
      "include_colab_link": true,
      "provenance": [],
      "toc_visible": true
    },
    "kernelspec": {
      "display_name": "Python 3",
      "name": "python3"
    },
    "language_info": {
      "codemirror_mode": {
        "name": "ipython",
        "version": 3
      },
      "file_extension": ".py",
      "mimetype": "text/x-python",
      "name": "python",
      "nbconvert_exporter": "python",
      "pygments_lexer": "ipython3",
      "version": "3.10.10"
    }
  },
  "nbformat": 4,
  "nbformat_minor": 0
}

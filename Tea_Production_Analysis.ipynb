{
  "cells": [
    {
      "attachments": {},
      "cell_type": "markdown",
      "metadata": {
        "colab_type": "text",
        "id": "view-in-github"
      },
      "source": [
        "<a href=\"https://colab.research.google.com/github/TahlonBrahic/Tea-Production-Data-Science/blob/main/Tea_Production_Analysis.ipynb\" target=\"_parent\"><img src=\"https://colab.research.google.com/assets/colab-badge.svg\" alt=\"Open In Colab\"/></a>"
      ]
    },
    {
      "cell_type": "code",
      "execution_count": 2,
      "metadata": {
        "id": "VtT4WWVw_Nxl"
      },
      "outputs": [],
      "source": [
        "import numpy as np\n",
        "from sklearn.experimental import enable_iterative_imputer\n",
        "from sklearn.impute import IterativeImputer\n",
        "import pandas as pd\n",
        "import matplotlib.pyplot as plt"
      ]
    },
    {
      "attachments": {},
      "cell_type": "markdown",
      "metadata": {},
      "source": [
        "# Data Merging"
      ]
    },
    {
      "cell_type": "code",
      "execution_count": 40,
      "metadata": {
        "colab": {
          "base_uri": "https://localhost:8080/",
          "height": 771
        },
        "id": "uDmuZ-7xrNeE",
        "outputId": "5b049699-fab3-40c9-ace1-3cd7a10aeccc"
      },
      "outputs": [
        {
          "data": {
            "text/html": [
              "<div>\n",
              "<style scoped>\n",
              "    .dataframe tbody tr th:only-of-type {\n",
              "        vertical-align: middle;\n",
              "    }\n",
              "\n",
              "    .dataframe tbody tr th {\n",
              "        vertical-align: top;\n",
              "    }\n",
              "\n",
              "    .dataframe thead th {\n",
              "        text-align: right;\n",
              "    }\n",
              "</style>\n",
              "<table border=\"1\" class=\"dataframe\">\n",
              "  <thead>\n",
              "    <tr style=\"text-align: right;\">\n",
              "      <th></th>\n",
              "      <th>Year</th>\n",
              "      <th>Tea production</th>\n",
              "    </tr>\n",
              "    <tr>\n",
              "      <th>Country</th>\n",
              "      <th></th>\n",
              "      <th></th>\n",
              "    </tr>\n",
              "  </thead>\n",
              "  <tbody>\n",
              "    <tr>\n",
              "      <th>Argentina</th>\n",
              "      <td>2010</td>\n",
              "      <td>92416.9</td>\n",
              "    </tr>\n",
              "    <tr>\n",
              "      <th>Bangladesh</th>\n",
              "      <td>2010</td>\n",
              "      <td>60000.0</td>\n",
              "    </tr>\n",
              "    <tr>\n",
              "      <th>Burundi</th>\n",
              "      <td>2010</td>\n",
              "      <td>6740.0</td>\n",
              "    </tr>\n",
              "    <tr>\n",
              "      <th>China</th>\n",
              "      <td>2010</td>\n",
              "      <td>1450000.0</td>\n",
              "    </tr>\n",
              "    <tr>\n",
              "      <th>China, mainland</th>\n",
              "      <td>2010</td>\n",
              "      <td>1450000.0</td>\n",
              "    </tr>\n",
              "    <tr>\n",
              "      <th>...</th>\n",
              "      <td>...</td>\n",
              "      <td>...</td>\n",
              "    </tr>\n",
              "    <tr>\n",
              "      <th>Türkiye</th>\n",
              "      <td>2020</td>\n",
              "      <td>283500.0</td>\n",
              "    </tr>\n",
              "    <tr>\n",
              "      <th>Uganda</th>\n",
              "      <td>2020</td>\n",
              "      <td>75692.0</td>\n",
              "    </tr>\n",
              "    <tr>\n",
              "      <th>United Republic of Tanzania</th>\n",
              "      <td>2020</td>\n",
              "      <td>28715.0</td>\n",
              "    </tr>\n",
              "    <tr>\n",
              "      <th>Viet Nam</th>\n",
              "      <td>2020</td>\n",
              "      <td>243100.0</td>\n",
              "    </tr>\n",
              "    <tr>\n",
              "      <th>Zimbabwe</th>\n",
              "      <td>2020</td>\n",
              "      <td>15000.0</td>\n",
              "    </tr>\n",
              "  </tbody>\n",
              "</table>\n",
              "<p>242 rows × 2 columns</p>\n",
              "</div>"
            ],
            "text/plain": [
              "                             Year  Tea production\n",
              "Country                                          \n",
              "Argentina                    2010         92416.9\n",
              "Bangladesh                   2010         60000.0\n",
              "Burundi                      2010          6740.0\n",
              "China                        2010       1450000.0\n",
              "China, mainland              2010       1450000.0\n",
              "...                           ...             ...\n",
              "Türkiye                      2020        283500.0\n",
              "Uganda                       2020         75692.0\n",
              "United Republic of Tanzania  2020         28715.0\n",
              "Viet Nam                     2020        243100.0\n",
              "Zimbabwe                     2020         15000.0\n",
              "\n",
              "[242 rows x 2 columns]"
            ]
          },
          "execution_count": 40,
          "metadata": {},
          "output_type": "execute_result"
        }
      ],
      "source": [
        "tea_production = pd.read_csv('https://raw.githubusercontent.com/TahlonBrahic/Tea-Production-Data-Science/main/DATA/Tea_crops_processed_production_quantity.csv')\n",
        "tea_production.set_index('Country', inplace=True)\n",
        "countries = tea_production.index.to_list()\n",
        "tea_production_tidy = pd.melt(tea_production, var_name='Year', value_name='Tea production', ignore_index=False)\n",
        "\n",
        "tea_import = pd.read_csv('https://raw.githubusercontent.com/TahlonBrahic/Tea-Production-Data-Science/main/DATA/Tea_import.csv')\n",
        "tea_import.set_index('Country', inplace=True)\n",
        "tea_import = tea_import.loc[countries]\n",
        "tea_import_years = tea_import.columns[20:-2].to_list()\n",
        "tea_import_years_processed = tea_import[tea_import_years]\n",
        "tea_import_tidy = pd.melt(tea_import_years_processed, var_name='Year', value_name='Tea imported', ignore_index=False)\n",
        "\n",
        "tea_export = pd.read_csv('https://raw.githubusercontent.com/TahlonBrahic/Tea-Production-Data-Science/main/DATA/Tea_export.csv')\n",
        "tea_export.set_index('Country', inplace=True)\n",
        "tea_export = tea_export.loc[countries]\n",
        "tea_export_years_processed = tea_export[tea_import_years]\n",
        "tea_export_tidy = pd.melt(tea_export_years_processed, var_name='Year', value_name='Tea exported', ignore_index=False)\n",
        "\n",
        "tea_production_tidy"
      ]
    },
    {
      "attachments": {},
      "cell_type": "markdown",
      "metadata": {},
      "source": [
        "# Data Wrangling"
      ]
    },
    {
      "cell_type": "code",
      "execution_count": null,
      "metadata": {},
      "outputs": [],
      "source": [
        "imp = IterativeImputer(max_iter=10, random_state=0)"
      ]
    },
    {
      "attachments": {},
      "cell_type": "markdown",
      "metadata": {
        "id": "yJIKlXFIwF3j"
      },
      "source": [
        "# Exploratory Data Analysis"
      ]
    },
    {
      "cell_type": "code",
      "execution_count": null,
      "metadata": {
        "colab": {
          "base_uri": "https://localhost:8080/",
          "height": 452
        },
        "id": "ukDGPS6msvuI",
        "outputId": "bd297315-5963-4f8b-ff34-e58d3d4c26aa"
      },
      "outputs": [],
      "source": [
        "pass"
      ]
    }
  ],
  "metadata": {
    "colab": {
      "authorship_tag": "ABX9TyN+z+bWnKIFwZf+t3JiQjYx",
      "include_colab_link": true,
      "provenance": [],
      "toc_visible": true
    },
    "kernelspec": {
      "display_name": "Python 3",
      "name": "python3"
    },
    "language_info": {
      "codemirror_mode": {
        "name": "ipython",
        "version": 3
      },
      "file_extension": ".py",
      "mimetype": "text/x-python",
      "name": "python",
      "nbconvert_exporter": "python",
      "pygments_lexer": "ipython3",
      "version": "3.10.10"
    }
  },
  "nbformat": 4,
  "nbformat_minor": 0
}
